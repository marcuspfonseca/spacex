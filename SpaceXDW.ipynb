{
 "cells": [
  {
   "cell_type": "code",
   "execution_count": 0,
   "metadata": {
    "application/vnd.databricks.v1+cell": {
     "cellMetadata": {
      "byteLimit": 2048000,
      "rowLimit": 10000
     },
     "inputWidgets": {},
     "nuid": "87e4d9fc-def5-4ee1-aade-40031bc89a9a",
     "showTitle": false,
     "tableResultSettingsMap": {
      "1": {
       "dataGridStateBlob": "{\"version\":1,\"tableState\":{\"columnPinning\":{\"left\":[\"#row_number#\"],\"right\":[]},\"columnSizing\":{\"date_utc\":280,\"date_local\":310},\"columnVisibility\":{}},\"settings\":{\"columns\":{}},\"syncTimestamp\":1756224954811}",
       "filterBlob": null,
       "queryPlanFiltersBlob": null,
       "tableResultIndex": 1
      }
     },
     "title": ""
    }
   },
   "outputs": [],
   "source": [
    "import json\n",
    "import pandas as pd\n",
    "\n",
    "#Lê os arquivos gerados pelo notebook que coletou os arquivos da API\n",
    "rockets_source = \"/Volumes/workspace/spacex/spacex/rockets.json\"\n",
    "launches_source = \"/Volumes/workspace/spacex/spacex/launches.json\"\n",
    "\n",
    "#Transforma os JSON en DataFrames\n",
    "rockets_df = spark.read.option(\"multiline\",True).json(rockets_source)\n",
    "launches_df = spark.read.option(\"multiline\",True).json(launches_source)\n",
    "\n",
    "#Mostra os DataFrames\n",
    "display(rockets_df)\n",
    "display(launches_df)\n",
    "\n",
    "#Salva os DataFrames na camada Bronze\n",
    "rockets_df.write.mode(\"overwrite\").parquet(\"/Volumes/workspace/spacex/spacex/Bronze/rockets.parquet\")\n",
    "launches_df.write.mode(\"overwrite\").parquet(\"/Volumes/workspace/spacex/spacex/Bronze/launches.parquet\")"
   ]
  },
  {
   "cell_type": "code",
   "execution_count": 0,
   "metadata": {
    "application/vnd.databricks.v1+cell": {
     "cellMetadata": {
      "byteLimit": 2048000,
      "rowLimit": 10000
     },
     "inputWidgets": {},
     "nuid": "0e4d5fca-268f-4814-b1b0-da0c7eddcf09",
     "showTitle": false,
     "tableResultSettingsMap": {
      "0": {
       "dataGridStateBlob": "{\"version\":1,\"tableState\":{\"columnPinning\":{\"left\":[\"#row_number#\"],\"right\":[]},\"columnSizing\":{},\"columnVisibility\":{}},\"settings\":{\"columns\":{}},\"syncTimestamp\":1756225674509}",
       "filterBlob": null,
       "queryPlanFiltersBlob": null,
       "tableResultIndex": 0
      },
      "1": {
       "dataGridStateBlob": "{\"version\":1,\"tableState\":{\"columnPinning\":{\"left\":[\"#row_number#\"],\"right\":[]},\"columnSizing\":{},\"columnVisibility\":{}},\"settings\":{\"columns\":{}},\"syncTimestamp\":1756225674519}",
       "filterBlob": null,
       "queryPlanFiltersBlob": null,
       "tableResultIndex": 1
      }
     },
     "title": ""
    }
   },
   "outputs": [],
   "source": [
    "from pyspark.sql.functions import col\n",
    "\n",
    "#Lê os arquivos da camada bronze\n",
    "df_rockets_read = spark.read.parquet(\"/Volumes/workspace/spacex/spacex/Bronze/rockets.parquet/\")\n",
    "df_launches_read = spark.read.parquet(\"/Volumes/workspace/spacex/spacex/Bronze/launches.parquet/\")\n",
    "\n",
    "#Transforma os Parquets em Dataframe selecionando as colunas relevantes\n",
    "df_rockets = df_rockets_read.select(\n",
    "    col(\"id\").alias(\"rocket_id\"),\n",
    "    col(\"name\").alias(\"rocket_name\"),\n",
    "    col(\"boosters\").alias(\"rocket_boosters\"),\n",
    "    col(\"country\").alias(\"country\"),\n",
    "    col(\"company\").alias(\"company\"),\n",
    "    col(\"cost_per_launch\").alias(\"rocket_cost_per_launch\"),\n",
    "    col(\"success_rate_pct\").alias(\"rocket_success_rate_pct\"),\n",
    "    col(\"first_flight\").alias(\"rocket_first_flight\"),\n",
    "    col(\"type\").alias(\"rocket_type\")\n",
    ")\n",
    "\n",
    "df_launches = df_launches_read.select(\n",
    "    col(\"id\").alias(\"launche_id\"),\n",
    "    col(\"name\").alias(\"launche_name\"),\n",
    "    col(\"date_utc\").alias(\"launche_date_utc\"),\n",
    "    col(\"success\").alias(\"launche_success\"),\n",
    "    col(\"rocket\").alias(\"launche_rocket_id\"),\n",
    "    col(\"flight_number\").alias(\"launche_flight_number\")\n",
    ")\n",
    "\n",
    "#Mostra os DataFrames\n",
    "display(df_rockets)\n",
    "display(df_launches)\n",
    "\n",
    "#Faz o Join entre as tabelas transformando em um só arquivo\n",
    "df_rockets_launches = df_launches.join(\n",
    "    df_rockets,\n",
    "    df_launches.launche_rocket_id == df_rockets.rocket_id,\n",
    "    \"inner\"\n",
    ")\n",
    "\n",
    "#Mostra o DataFrame\n",
    "display(df_rockets_launches)\n",
    "\n",
    "#Salva o DataFrame na camada Silver\n",
    "df_rockets_launches.write.mode(\"overwrite\").parquet(\"/Volumes/workspace/spacex/spacex/Silver/tb_rockets_launches.parquet\")"
   ]
  },
  {
   "cell_type": "code",
   "execution_count": 0,
   "metadata": {
    "application/vnd.databricks.v1+cell": {
     "cellMetadata": {
      "byteLimit": 2048000,
      "rowLimit": 10000
     },
     "inputWidgets": {},
     "nuid": "70cc6478-e283-4b72-ac2f-3df6520bf930",
     "showTitle": false,
     "tableResultSettingsMap": {
      "0": {
       "dataGridStateBlob": "{\"version\":1,\"tableState\":{\"columnPinning\":{\"left\":[\"#row_number#\"],\"right\":[]},\"columnSizing\":{},\"columnVisibility\":{}},\"settings\":{\"columns\":{}},\"syncTimestamp\":1756226722994}",
       "filterBlob": null,
       "queryPlanFiltersBlob": null,
       "tableResultIndex": 0
      }
     },
     "title": ""
    }
   },
   "outputs": [],
   "source": [
    "from pyspark.sql.functions import col, to_date\n",
    "\n",
    "#Lê os arquivos da camada Silver\n",
    "df_rocket_launches_read = spark.read.parquet(\n",
    "    \"/Volumes/workspace/spacex/spacex/Silver/tb_rockets_launches.parquet/\"\n",
    ")\n",
    "\n",
    "#Realiza os tratamentos pertinentes na tabela\n",
    "tb_rockets_launches_gold = df_rocket_launches_read.select(\n",
    "    col(\"launche_id\"),\n",
    "    col(\"launche_name\"),\n",
    "    to_date(col(\"launche_date_utc\")).alias(\"launche_date_utc_date\"),\n",
    "    col(\"launche_success\").cast(\"boolean\").alias(\"launche_success_bol\"),\n",
    "    col(\"launche_rocket_id\"),\n",
    "    col(\"launche_flight_number\"),\n",
    "    col(\"rocket_id\"),\n",
    "    col(\"rocket_name\"),\n",
    "    col(\"rocket_boosters\"),\n",
    "    col(\"country\"),\n",
    "    col(\"company\"),\n",
    "    col(\"rocket_cost_per_launch\").cast(\"double\").alias(\"rocket_cost_per_launch\"),\n",
    "    (col(\"rocket_success_rate_pct\").cast(\"double\") / 100).alias(\"rocket_success_rate_pct\"),\n",
    "    to_date(col(\"rocket_first_flight\")).alias(\"rocket_first_flight_date\"),\n",
    "    col(\"rocket_type\")\n",
    ")\n",
    "\n",
    "#Mostra os dados\n",
    "display(tb_rockets_launches_gold)\n",
    "\n",
    "#Salva os dados na camada Gold\n",
    "tb_rockets_launches_gold.write.mode(\"overwrite\").parquet(\"/Volumes/workspace/spacex/spacex/Gold/tb_rockets_launches_gold.parquet\")\n",
    "\n"
   ]
  }
 ],
 "metadata": {
  "application/vnd.databricks.v1+notebook": {
   "computePreferences": null,
   "dashboards": [],
   "environmentMetadata": {
    "base_environment": "",
    "environment_version": "3"
   },
   "inputWidgetPreferences": null,
   "language": "python",
   "notebookMetadata": {
    "pythonIndentUnit": 4
   },
   "notebookName": "SpaceXDW",
   "widgets": {}
  },
  "language_info": {
   "name": "python"
  }
 },
 "nbformat": 4,
 "nbformat_minor": 0
}
