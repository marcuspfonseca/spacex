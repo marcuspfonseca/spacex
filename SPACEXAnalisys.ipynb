{
 "cells": [
  {
   "cell_type": "code",
   "execution_count": 0,
   "metadata": {
    "application/vnd.databricks.v1+cell": {
     "cellMetadata": {
      "byteLimit": 2048000,
      "rowLimit": 10000
     },
     "inputWidgets": {},
     "nuid": "f40eed9f-17d5-4db6-8e9f-5697389b6aee",
     "showTitle": false,
     "tableResultSettingsMap": {},
     "title": ""
    }
   },
   "outputs": [],
   "source": [
    "import pandas as pd\n",
    "import matplotlib.pyplot as plt\n",
    "\n",
    "#lê o arquivo da camada Gold\n",
    "df_rocket_launches_read = spark.read.parquet(\n",
    "    \"/Volumes/workspace/spacex/spacex/Gold/tb_rockets_launches_gold.parquet/\"\n",
    ")\n",
    "\n",
    "display(df_rocket_launches_read)\n"
   ]
  },
  {
   "cell_type": "code",
   "execution_count": 0,
   "metadata": {
    "application/vnd.databricks.v1+cell": {
     "cellMetadata": {
      "byteLimit": 2048000,
      "rowLimit": 10000
     },
     "inputWidgets": {},
     "nuid": "ef48f142-1196-4514-a297-440ac2f7287b",
     "showTitle": false,
     "tableResultSettingsMap": {},
     "title": ""
    }
   },
   "outputs": [],
   "source": [
    "from pyspark.sql.functions import month, year\n",
    "import matplotlib.pyplot as plt\n",
    "\n",
    "# Agrupando por ano e mês\n",
    "df_monthly_launches = df_rocket_launches_read.groupBy(\n",
    "    year(\"launche_date_utc_date\").alias(\"year\"),\n",
    "    month(\"launche_date_utc_date\").alias(\"month\")\n",
    ").count()\n",
    "display(df_monthly_launches)\n",
    "\n",
    "# Agrupando por sucesso\n",
    "df_success_launches = df_rocket_launches_read.groupBy(\"launche_success_bol\").count()\n",
    "display(df_success_launches)\n",
    "\n",
    "# Convertendo para pandas (sucesso)\n",
    "pdf_success_launches = df_success_launches.toPandas().dropna(subset=[\"launche_success_bol\"])\n",
    "x_launche_success = pdf_success_launches[\"launche_success_bol\"].astype(str).tolist()\n",
    "y_launche_success = pdf_success_launches[\"count\"].tolist()\n",
    "\n",
    "# Convertendo para pandas (ano/mês)\n",
    "pdf_monthly_launches = df_monthly_launches.toPandas().dropna(subset=[\"year\", \"month\"])\n",
    "\n",
    "# Criando coluna Ano-Mês\n",
    "pdf_monthly_launches[\"year_month\"] = (\n",
    "    pdf_monthly_launches[\"year\"].astype(str) + \"-\" +\n",
    "    pdf_monthly_launches[\"month\"].astype(str).str.zfill(2)\n",
    ")\n",
    "\n",
    "# Ordenando corretamente por ano e mês\n",
    "pdf_monthly_launches = pdf_monthly_launches.sort_values(by=[\"year\", \"month\"])\n",
    "\n",
    "x_month_Launche = pdf_monthly_launches[\"year_month\"].tolist()\n",
    "y_month_Launche = pdf_monthly_launches[\"count\"].tolist()\n",
    "\n",
    "# --- Gráfico de lançamentos por sucesso ---\n",
    "plt.figure(figsize=(10, 5))\n",
    "plt.bar(x_launche_success, y_launche_success)\n",
    "plt.title(\"Lançamentos por sucesso\")\n",
    "plt.xlabel(\"Sucesso\")\n",
    "plt.ylabel(\"Count\")\n",
    "plt.show()\n",
    "\n",
    "# --- Gráfico de lançamentos por ano/mês ---\n",
    "plt.figure(figsize=(30, 5))\n",
    "plt.bar(x_month_Launche, y_month_Launche)\n",
    "plt.title(\"Lançamentos por ano/mês\")\n",
    "plt.xlabel(\"Ano-Mês\")\n",
    "plt.ylabel(\"Count\")\n",
    "plt.xticks(rotation=45)\n",
    "plt.show()\n"
   ]
  },
  {
   "cell_type": "code",
   "execution_count": 0,
   "metadata": {
    "application/vnd.databricks.v1+cell": {
     "cellMetadata": {
      "byteLimit": 2048000,
      "rowLimit": 10000
     },
     "inputWidgets": {},
     "nuid": "9cb44ba6-71c3-40bf-afea-5545e53647e4",
     "showTitle": false,
     "tableResultSettingsMap": {
      "0": {
       "dataGridStateBlob": "{\"version\":1,\"tableState\":{\"columnPinning\":{\"left\":[\"#row_number#\"],\"right\":[]},\"columnSizing\":{},\"columnVisibility\":{}},\"settings\":{\"columns\":{}},\"syncTimestamp\":1756316548175}",
       "filterBlob": null,
       "queryPlanFiltersBlob": null,
       "tableResultIndex": 0
      }
     },
     "title": ""
    }
   },
   "outputs": [],
   "source": [
    "from pyspark.sql.functions import month, year\n",
    "import matplotlib.pyplot as plt\n",
    "\n",
    "# Agrupando por ano e mês\n",
    "df_rockets_launches = df_rocket_launches_read.groupBy(\"rocket_name\").count()\n",
    "display(df_rockets_launches)\n",
    "\n",
    "# Convertendo para pandas\n",
    "pdf_rockets_launches = df_rockets_launches.toPandas()\n",
    "x_rockets_launches = pdf_rockets_launches[\"rocket_name\"].tolist()\n",
    "y_rockets_launches = pdf_rockets_launches[\"count\"].tolist()\n",
    "\n",
    "# --- Gráfico de lançamentos por ano/mês ---    \n",
    "plt.figure(figsize=(10, 5))\n",
    "plt.bar(x_rockets_launches, y_rockets_launches)\n",
    "plt.title(\"Lançamentos por foguetes\")\n",
    "plt.xlabel(\"Foguetes\")\n",
    "plt.ylabel(\"Count\")\n",
    "plt.xticks(rotation=45)\n",
    "plt.show()\n"
   ]
  }
 ],
 "metadata": {
  "application/vnd.databricks.v1+notebook": {
   "computePreferences": null,
   "dashboards": [],
   "environmentMetadata": {
    "base_environment": "",
    "environment_version": "3"
   },
   "inputWidgetPreferences": null,
   "language": "python",
   "notebookMetadata": {
    "pythonIndentUnit": 4
   },
   "notebookName": "SPACEXAnalisys",
   "widgets": {}
  },
  "language_info": {
   "name": "python"
  }
 },
 "nbformat": 4,
 "nbformat_minor": 0
}
