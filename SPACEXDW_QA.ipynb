{
 "cells": [
  {
   "cell_type": "code",
   "execution_count": 0,
   "metadata": {
    "application/vnd.databricks.v1+cell": {
     "cellMetadata": {
      "byteLimit": 2048000,
      "rowLimit": 10000
     },
     "inputWidgets": {},
     "nuid": "74f28da5-ed7e-4a5a-ad18-d2f30a25d08f",
     "showTitle": false,
     "tableResultSettingsMap": {},
     "title": ""
    }
   },
   "outputs": [],
   "source": [
    "import pandas as pd\n",
    "\n",
    "#Lê o arquivo da camada gold\n",
    "df_rockets_launches_gold = spark.read.parquet(\n",
    "    \"/Volumes/workspace/spacex/spacex/Gold/tb_rockets_launches_gold.parquet/\"\n",
    ")\n",
    "\n",
    "#Converte o arquivo em pandas\n",
    "pdf_rockets_launches_gold = df_rockets_launches_gold.toPandas()\n",
    "\n",
    "#função para realizar a validação de qualidade\n",
    "def data_quality(df: pd.DataFrame, table_name: str):\n",
    "    report = pd.DataFrame(\n",
    "        columns=['table', 'rows', 'column', 'nulls', 'zeros', 'min', 'max']\n",
    "    )\n",
    "    \n",
    "    total_rows = len(df)\n",
    "    print(\"Quantidade de linhas:\", total_rows)\n",
    "    \n",
    "    for column in df.columns:\n",
    "        nulls = df[column].isnull().sum()\n",
    "        col_dtype = df[column].dtype\n",
    "        if pd.api.types.is_numeric_dtype(col_dtype):\n",
    "            zeros = df[column].eq(0).sum()\n",
    "            min_val = df[column].min()\n",
    "            max_val = df[column].max()\n",
    "        else:\n",
    "            zeros = None\n",
    "            min_val = None\n",
    "            max_val = None\n",
    "        \n",
    "        report.loc[len(report.index)] = [\n",
    "            table_name, total_rows, column, nulls, zeros, min_val, max_val\n",
    "        ]\n",
    "    \n",
    "    return report\n",
    "\n",
    "#Mostra o relatório de qualidade dos dados\n",
    "display(data_quality(pdf_rockets_launches_gold, 'df_rockets_launches_gold'))"
   ]
  }
 ],
 "metadata": {
  "application/vnd.databricks.v1+notebook": {
   "computePreferences": null,
   "dashboards": [],
   "environmentMetadata": {
    "base_environment": "",
    "environment_version": "3"
   },
   "inputWidgetPreferences": null,
   "language": "python",
   "notebookMetadata": {
    "pythonIndentUnit": 4
   },
   "notebookName": "SPACEXDW_QA",
   "widgets": {}
  },
  "language_info": {
   "name": "python"
  }
 },
 "nbformat": 4,
 "nbformat_minor": 0
}
